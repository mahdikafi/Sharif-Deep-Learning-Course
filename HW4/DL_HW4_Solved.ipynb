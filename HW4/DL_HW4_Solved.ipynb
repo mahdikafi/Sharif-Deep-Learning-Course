{
  "nbformat": 4,
  "nbformat_minor": 0,
  "metadata": {
    "colab": {
      "name": "DL_HW4.ipynb",
      "provenance": [],
      "collapsed_sections": []
    },
    "kernelspec": {
      "name": "python3",
      "display_name": "Python 3"
    },
    "language_info": {
      "name": "python"
    }
  },
  "cells": [
    {
      "cell_type": "markdown",
      "metadata": {
        "id": "HgIvhkOvLBTK"
      },
      "source": [
        "<div style=\"direction:rtl;line-height:300%;\">\n",
        "\t<font face=\"XB Zar\" size=5>\n",
        "\t\t<div align=center>\n",
        "\t\t\t<font face=\"IranNastaliq\" size=30>\n",
        "\t\t\t\t<p></p>\n",
        "\t\t\t\t<p></p>\n",
        "به نام خدا\n",
        "\t\t\t\t<p></p>\n",
        "\t\t\t</font>\n",
        "\t\t\t<font color=#FF7500>\n",
        "دانشگاه صنعتی شریف - دانشکده مهندسی کامپیوتر\n",
        "            </font>\n",
        "\t\t\t<p></p>\n",
        "\t\t\t<font color=blue>\n",
        "یادگیری ژرف\n",
        "            </font>\n",
        "\t\t\t<br />\n",
        "\t\t\t<br />\n",
        "پاییز ۱۴۰۰\t\t</div>\n",
        "\t\t<hr/>\n",
        "\t\t<div align=center>\n",
        "\t\t    <font size=6>\n",
        "\t\t\t    <br />\n",
        "تمرین چهارم - Autoencoders - Attention Models\n",
        "            \t<br/>\n",
        "\t\t\t</font>\n",
        "طراح: افشین کریمی\n",
        "                <br/><br/>\n",
        "                <br/>\n",
        "        </style>\n",
        "\t</font>\n",
        "</div>"
      ]
    },
    {
      "cell_type": "markdown",
      "metadata": {
        "id": "fedupasRLBQa"
      },
      "source": [
        "<div style=\"direction:rtl;line-height:300%;\">\n",
        "\t<font face=\"XB Zar\" size=5>\n",
        "\t\t<div align=center>\n",
        "\t\t\t\t<p></p>\n",
        "\t\t\t\t<p></p>\n",
        "                نام: مهدی کافی\n",
        "\t\t\t\t<br/>\n",
        "                شماره دانشجویی: ۹۹۲۱۰۷۵۳\n",
        "        </div>\n",
        "\t\t<br />\n",
        "\t\t<hr />\n",
        "\t\t<style type=\"text/css\" scoped>\n",
        "        p{\n",
        "        border: 1px solid #a2a9b1;background-color: #f8f9fa;display: inline-block;\n",
        "        };\n",
        "        </style>\n",
        "\t</font>\n",
        "</div>"
      ]
    },
    {
      "cell_type": "markdown",
      "metadata": {
        "id": "XklhkNc0REPo"
      },
      "source": [
        "# Autoencoders\n",
        "\n",
        "Just Complete the ToDo Parts "
      ]
    },
    {
      "cell_type": "code",
      "metadata": {
        "id": "07jYTmTtVqMn"
      },
      "source": [
        "import torch\n",
        "from torchvision import datasets\n",
        "from torchvision import transforms\n",
        "import matplotlib.pyplot as plt"
      ],
      "execution_count": null,
      "outputs": []
    },
    {
      "cell_type": "code",
      "metadata": {
        "id": "KIqrs9fAVqJ5"
      },
      "source": [
        "# Transforms images to a PyTorch Tensor\n",
        "tensor_transform = transforms.ToTensor()\n",
        "  \n",
        "# Download the MNIST Dataset\n",
        "dataset = datasets.MNIST(root = \"./data\",\n",
        "                         train = True,\n",
        "                         download = True,\n",
        "                         transform = tensor_transform)\n",
        "  \n",
        "# DataLoader is used to load the dataset \n",
        "# for training\n",
        "loader = torch.utils.data.DataLoader(dataset = dataset,\n",
        "                                     batch_size = 32,\n",
        "                                     shuffle = True)"
      ],
      "execution_count": null,
      "outputs": []
    },
    {
      "cell_type": "code",
      "metadata": {
        "id": "HYXxhKMkVqHH"
      },
      "source": [
        "# Creating a PyTorch class\n",
        "# 28*28 ==> 9 ==> 28*28\n",
        "class AE(torch.nn.Module):\n",
        "    def __init__(self):\n",
        "        super().__init__()\n",
        "          \n",
        "        ''' Todo: Build a linear encoder with Linear\n",
        "         layer followed by Relu activation function\n",
        "         784 ==> 9 '''\n",
        "        self.encoder = torch.nn.Sequential(\n",
        "            torch.nn.Linear(784, 128), \n",
        "            torch.nn.ReLU(True),\n",
        "            torch.nn.Linear(128, 64),\n",
        "            torch.nn.ReLU(True),\n",
        "            torch.nn.Linear(64, 9),\n",
        "            torch.nn.ReLU(True)\n",
        "        )\n",
        "          \n",
        "        ''' Todo: Build a linear decoder with Linear\n",
        "         layer followed by Relu activation function\n",
        "         The Sigmoid activation function\n",
        "         outputs the value between 0 and 1\n",
        "         9 ==> 784 '''\n",
        "        self.decoder = torch.nn.Sequential(\n",
        "            torch.nn.Linear(9, 64),\n",
        "            torch.nn.ReLU(True),\n",
        "            torch.nn.Linear(64, 128),\n",
        "            torch.nn.ReLU(True),\n",
        "            torch.nn.Linear(128, 784),\n",
        "            torch.nn.Sigmoid()\n",
        "        )\n",
        "  \n",
        "    def forward(self, x):\n",
        "        encoded = self.encoder(x)\n",
        "        decoded = self.decoder(encoded)\n",
        "        return decoded"
      ],
      "execution_count": null,
      "outputs": []
    },
    {
      "cell_type": "code",
      "metadata": {
        "id": "rfals6CUVqCW"
      },
      "source": [
        "\n",
        "''' Todo: Initialaize model '''\n",
        "model = AE()\n",
        "  \n",
        "''' Todo: Validation using MSE Loss function '''\n",
        "loss_function = torch.nn.MSELoss()\n",
        "  \n",
        "''' Todo: Use an Adam Optimizer with lr = 0.1 '''\n",
        "# lr of 0.1 was not working well, so I used lr of 0.001\n",
        "optimizer = torch.optim.Adam(model.parameters(), lr=1e-3)"
      ],
      "execution_count": null,
      "outputs": []
    },
    {
      "cell_type": "code",
      "metadata": {
        "id": "4-3OCC8tVp_n",
        "colab": {
          "base_uri": "https://localhost:8080/",
          "height": 321
        },
        "outputId": "6e941669-e4d2-45d6-cc1a-1f36c43c9879"
      },
      "source": [
        "epochs = 20\n",
        "outputs = []\n",
        "losses = []\n",
        "for epoch in range(epochs):\n",
        "    for (image, _) in loader:\n",
        "        \n",
        "      ''' Todo: Reshaping the image to (-1, 784) '''\n",
        "      image = image.reshape(-1, 784)\n",
        "        \n",
        "      # Output of Autoencoder\n",
        "      reconstructed = model(image)\n",
        "        \n",
        "      ''' Todo: Calculate the loss function '''\n",
        "      loss = loss_function(reconstructed, image)\n",
        "        \n",
        "      # The gradients are set to zero,\n",
        "      # then the gradient is computed and stored.\n",
        "      # .step() performs parameter update\n",
        "      optimizer.zero_grad()\n",
        "      loss.backward()\n",
        "      optimizer.step()\n",
        "        \n",
        "      # Storing the losses in a list for plotting\n",
        "      losses.append(loss)\n",
        "    outputs.append((epochs, image, reconstructed))\n",
        "  \n",
        "# Defining the Plot Style\n",
        "plt.style.use('fivethirtyeight')\n",
        "plt.xlabel('Iterations')\n",
        "plt.ylabel('Loss')\n",
        "  \n",
        "''' Todo: Plot the last 100 values '''\n",
        "losses_len = len(losses)\n",
        "plt.plot(torch.arange(losses_len-100+1, losses_len+1), losses[-100:])"
      ],
      "execution_count": null,
      "outputs": [
        {
          "output_type": "execute_result",
          "data": {
            "text/plain": [
              "[<matplotlib.lines.Line2D at 0x7ff5230f1e90>]"
            ]
          },
          "metadata": {},
          "execution_count": 33
        },
        {
          "output_type": "display_data",
          "data": {
            "image/png": "[encoded data removed]",
            "text/plain": [
              "<Figure size 432x288 with 1 Axes>"
            ]
          },
          "metadata": {}
        }
      ]
    },
    {
      "cell_type": "code",
      "metadata": {
        "id": "vtwSxSiCbkoR",
        "colab": {
          "base_uri": "https://localhost:8080/",
          "height": 283
        },
        "outputId": "e9ec0336-1259-4ddc-dbe5-8229c4b3f5e8"
      },
      "source": [
        "# Plot the first input image array\n",
        "for i, item in enumerate(image):\n",
        "    \n",
        "  # Reshape the array for plotting\n",
        "  item = item.reshape(-1, 28, 28)\n",
        "  plt.imshow(item[0])\n",
        "  \n"
      ],
      "execution_count": null,
      "outputs": [
        {
          "output_type": "display_data",
          "data": {
            "image/png": "[encoded data removed]",
            "text/plain": [
              "<Figure size 432x288 with 1 Axes>"
            ]
          },
          "metadata": {}
        }
      ]
    },
    {
      "cell_type": "code",
      "metadata": {
        "id": "sVHE0U6aegso",
        "colab": {
          "base_uri": "https://localhost:8080/",
          "height": 283
        },
        "outputId": "cdd2c378-ae47-40f0-b178-a6c0dc40dfd2"
      },
      "source": [
        "''' Todo: Plot the first reconstructed input image array '''  \n",
        "for idx, item in enumerate(reconstructed):\n",
        "    item = item.reshape(-1, 28, 28)\n",
        "    plt.imshow(item[0].detach().numpy())"
      ],
      "execution_count": null,
      "outputs": [
        {
          "output_type": "display_data",
          "data": {
            "image/png": "[encoded data removed]",
            "text/plain": [
              "<Figure size 432x288 with 1 Axes>"
            ]
          },
          "metadata": {}
        }
      ]
    },
    {
      "cell_type": "markdown",
      "metadata": {
        "id": "fbk_vMckkhCp"
      },
      "source": [
        "# Attention Models\n",
        "\n",
        "Just Complete the ToDo Parts "
      ]
    },
    {
      "cell_type": "code",
      "metadata": {
        "id": "SJixqDSwK4J8"
      },
      "source": [
        "# Some imports that we require to write the network.\n",
        "import torch\n",
        "import torch.nn as nn\n",
        "from torch import optim\n",
        "import torch.nn.functional as F\n",
        "from torch.autograd import Variable"
      ],
      "execution_count": 1,
      "outputs": []
    },
    {
      "cell_type": "code",
      "metadata": {
        "id": "SzscV_sXkuYJ"
      },
      "source": [
        "# Encoder for the attention network that is similar to the vanilla encoders\n",
        "class Encoder(nn.Module):\n",
        "  # Store the parameters\n",
        "  def __init__(self, input_size, hidden_size, bidirectional = True):\n",
        "    super(Encoder, self).__init__()\n",
        "    self.hidden_size = hidden_size\n",
        "    self.input_size = input_size\n",
        "    self.bidirectional = bidirectional\n",
        "    ''' ToDo : Create an LSTM layer '''\n",
        "    self.lstm = nn.LSTM(input_size=self.input_size, hidden_size=self.hidden_size, bidirectional=self.bidirectional)\n",
        "  \n",
        "  # The Forward function\n",
        "  def forward(self, inputs, hidden):\n",
        "#   def forward(self, inputs):\n",
        "    \n",
        "    ''' Todo : Pass the input through the LSTM with the provided hidden state '''\n",
        "    output, hidden = self.lstm(inputs.unsqueeze(0).unsqueeze(0), hidden)\n",
        "    # output, hidden = self.lstm(inputs)\n",
        "    return output, hidden\n",
        "    \n",
        "  # This function has to be called before passing sentence through the LSTM to initialize the hidden state.  \n",
        "  def init_hidden(self):\n",
        "    return (torch.zeros(1 + int(self.bidirectional), 1, self.hidden_size),\n",
        "        torch.zeros(1 + int(self.bidirectional), 1, self.hidden_size))\n",
        "    "
      ],
      "execution_count": 2,
      "outputs": []
    },
    {
      "cell_type": "code",
      "metadata": {
        "id": "S92J-YHJmvb3"
      },
      "source": [
        "# This class is the attention based decoder\n",
        "class AttentionDecoder(nn.Module):\n",
        "  \n",
        "  def __init__(self, hidden_size, output_size, vocab_size):\n",
        "    super(AttentionDecoder, self).__init__()\n",
        "    self.hidden_size = hidden_size\n",
        "    self.output_size = output_size\n",
        "    \n",
        "    # This layer calculates the importance of the word, by using the previous decoder hidden state and the hidden state of the encoder at that particular time step\n",
        "    self.attn = nn.Linear(hidden_size + output_size, 1)\n",
        "    ''' Todo: The 'lstm' layer takes in concatenation of vector obtained by having a weighted sum according to attention weights and the previous word outputted '''\n",
        "    self.lstm = nn.LSTM(self.hidden_size+vocab_size, self.output_size)\n",
        "    ''' Todo: Map the output feature space into the size of vocabulary '''\n",
        "    self.final = nn.Linear(self.output_size, vocab_size)\n",
        "  \n",
        "  # The 'init_hidden' function is used in the same way as in the encoder.\n",
        "  def init_hidden(self):\n",
        "    return (torch.zeros(1, 1, self.output_size),\n",
        "      torch.zeros(1, 1, self.output_size))\n",
        "  \n",
        "  # The forward function of the decoder\n",
        "  def forward(self, decoder_hidden, encoder_outputs, input):\n",
        "    \n",
        "    # 'weights' list is used to store the attention weights\n",
        "    weights = []\n",
        "    for i in range(len(encoder_outputs)):\n",
        "      print(decoder_hidden[0][0].shape)\n",
        "      print(encoder_outputs[0].shape)\n",
        "      # Pass each encoder output through the 'attn' layer along with \n",
        "      # decoder's previous hidden state by concatenating them and store \n",
        "      # them in the 'weights' list \n",
        "      weights.append(self.attn(torch.cat((decoder_hidden[0][0], \n",
        "                                          encoder_outputs[i]), dim = 1)))\n",
        "    # print(f\"lennnnnn{len(weights)}\")\n",
        "      \n",
        "    ''' Todo : scale weights in range (0,1) by applying softmax activation '''\n",
        "    normalized_weights = F.softmax(torch.tensor(weights)).unsqueeze(0)\n",
        "    # print(normalized_weights)\n",
        "    # To calculate the weighted sum, we use batch matrix multiplication\n",
        "    # print(\"#\"*30)\n",
        "    # print(normalized_weights.unsqueeze(0).unsqueeze(0).size())\n",
        "    # print(encoder_outputs.view(1, -1, self.hidden_size).size())\n",
        "    attn_applied = torch.bmm(normalized_weights.unsqueeze(0),\n",
        "                             encoder_outputs.view(1, -1, self.hidden_size))\n",
        "    # print(f\"attn_applied: {attn_applied.size()}\")\n",
        "    # print(input.size())\n",
        "    input_lstm = torch.cat((attn_applied[0], input[0]), dim = 1) #if we are using embedding, use embedding of input here instead\n",
        "    # print(input_lstm.size())\n",
        "    output, hidden = self.lstm(input_lstm.unsqueeze(0), decoder_hidden)\n",
        "    \n",
        "    output = self.final(output[0])\n",
        "    \n",
        "    return output, hidden, normalized_weights"
      ],
      "execution_count": 3,
      "outputs": []
    },
    {
      "cell_type": "code",
      "metadata": {
        "id": "YqIG8wCFvqO3",
        "colab": {
          "base_uri": "https://localhost:8080/"
        },
        "outputId": "42f55c20-0461-4ffd-bddf-0a1da8fda88a"
      },
      "source": [
        "# Testing the code\n",
        "bidirectional = True\n",
        "c = Encoder(10, 20, bidirectional)\n",
        "a, b = c.forward(torch.randn(10), c.init_hidden())\n",
        "print(f\"a: {a.shape}\")\n",
        "print(f\"b0: {b[0].shape}\")\n",
        "print(f\"b1: {b[1].shape}\")\n",
        "\n",
        "x = AttentionDecoder(20 * (1 + bidirectional), 25, 30)\n",
        "# print(\"#\"*30)\n",
        "# print(f\"cata: {torch.cat((a, a)).size()}\")\n",
        "y, z, w = x.forward(x.init_hidden(), torch.cat((a,a)), torch.zeros(1,1, 30)) \n",
        "print(y.shape)\n",
        "print(z[0].shape)\n",
        "print(z[1].shape)\n",
        "print(w)"
      ],
      "execution_count": 4,
      "outputs": [
        {
          "output_type": "stream",
          "name": "stdout",
          "text": [
            "a: torch.Size([1, 1, 40])\n",
            "b0: torch.Size([2, 1, 20])\n",
            "b1: torch.Size([2, 1, 20])\n",
            "torch.Size([1, 25])\n",
            "torch.Size([1, 40])\n",
            "torch.Size([1, 25])\n",
            "torch.Size([1, 40])\n",
            "torch.Size([1, 30])\n",
            "torch.Size([1, 1, 25])\n",
            "torch.Size([1, 1, 25])\n",
            "tensor([[0.5000, 0.5000]])\n"
          ]
        },
        {
          "output_type": "stream",
          "name": "stderr",
          "text": [
            "/usr/local/lib/python3.7/dist-packages/ipykernel_launcher.py:37: UserWarning: Implicit dimension choice for softmax has been deprecated. Change the call to include dim=X as an argument.\n"
          ]
        }
      ]
    },
    {
      "cell_type": "code",
      "source": [
        ""
      ],
      "metadata": {
        "id": "A4Ql071OVueN"
      },
      "execution_count": null,
      "outputs": []
    }
  ]
}